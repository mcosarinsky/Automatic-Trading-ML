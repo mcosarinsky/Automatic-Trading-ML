{
 "cells": [
  {
   "cell_type": "code",
   "execution_count": 1,
   "id": "deb41b60-3fb7-41fa-ab78-64e742c12543",
   "metadata": {},
   "outputs": [],
   "source": [
    "import os\n",
    "import sys\n",
    "import numpy as np\n",
    "import pandas as pd\n",
    "\n",
    "sys.path.append('../utils')\n",
    "from strategy_funcs import process_dataframe\n",
    "from helper_functions import triple_barrier, curado_profits"
   ]
  },
  {
   "cell_type": "code",
   "execution_count": 2,
   "id": "d064d910-7c2c-4921-9089-e1e319455fb8",
   "metadata": {},
   "outputs": [],
   "source": [
    "def ensure_utc(df, col_names):\n",
    "    \"\"\"\n",
    "    Ensure the datetime columns are in UTC.\n",
    "    \"\"\"\n",
    "    if isinstance(col_names, str):  # If a single column is passed as a string convert to list for uniform processing\n",
    "        col_names = [col_names]     \n",
    "    \n",
    "    for col_name in col_names:\n",
    "        df[col_name] = pd.to_datetime(df[col_name])\n",
    "        if df[col_name].dt.tz is None:\n",
    "            df[col_name] = df[col_name].dt.tz_localize('UTC')  # Localize to UTC if no timezone\n",
    "        else:\n",
    "            df[col_name] = df[col_name].dt.tz_convert('UTC')  \n",
    "            \n",
    "\n",
    "def prepare_data(df, SL=0.025, TP=0.05, tl=48, window_size=28):\n",
    "    \"\"\"\n",
    "    Run labeling method and process dataframe \n",
    "    \"\"\"\n",
    "    df['date'] = pd.to_datetime(df['date']).dt.tz_localize(None)\n",
    "\n",
    "    # Labeling\n",
    "    data_labeled = triple_barrier(df, SL=SL, TP=TP, tl=tl).reset_index(drop=True)\n",
    "    data_labeled['profit_curado'] = curado_profits(data_labeled)\n",
    "    data_labeled = data_labeled.drop(columns=['open', 'high', 'low', 'close', 'volume', 'label'])\n",
    "\n",
    "    # Process by windows\n",
    "    data_processed = process_dataframe(df, lags=window_size, cols=['open', 'high', 'low', 'close', 'volume'])\n",
    "    data_processed = data_processed.reset_index().rename(columns={'date': 'startDate'})\n",
    "    \n",
    "    # Add labels to processed dataframe\n",
    "    profits_df = pd.merge(data_processed, data_labeled, on='startDate', how='inner')\n",
    "    ensure_utc(profits_df, ['startDate', 'endDate'])\n",
    "\n",
    "    return profits_df"
   ]
  },
  {
   "cell_type": "code",
   "execution_count": 3,
   "id": "ae4ef2fd-23f0-42fa-a1a4-9932418264b3",
   "metadata": {},
   "outputs": [
    {
     "name": "stdout",
     "output_type": "stream",
     "text": [
      "BTC\n"
     ]
    },
    {
     "name": "stderr",
     "output_type": "stream",
     "text": [
      "100%|███████████████████████████████████████████| 61409/61409 [00:07<00:00, 8024.78it/s]\n"
     ]
    },
    {
     "name": "stdout",
     "output_type": "stream",
     "text": [
      "BNB\n"
     ]
    },
    {
     "name": "stderr",
     "output_type": "stream",
     "text": [
      "100%|███████████████████████████████████████████| 61409/61409 [00:07<00:00, 8718.46it/s]\n"
     ]
    },
    {
     "name": "stdout",
     "output_type": "stream",
     "text": [
      "ETH\n"
     ]
    },
    {
     "name": "stderr",
     "output_type": "stream",
     "text": [
      "100%|███████████████████████████████████████████| 61409/61409 [00:07<00:00, 8096.78it/s]\n"
     ]
    },
    {
     "name": "stdout",
     "output_type": "stream",
     "text": [
      "DOGE\n"
     ]
    },
    {
     "name": "stderr",
     "output_type": "stream",
     "text": [
      "100%|███████████████████████████████████████████| 48275/48275 [00:05<00:00, 8412.94it/s]\n"
     ]
    },
    {
     "name": "stdout",
     "output_type": "stream",
     "text": [
      "ADA\n"
     ]
    },
    {
     "name": "stderr",
     "output_type": "stream",
     "text": [
      "100%|███████████████████████████████████████████| 58895/58895 [00:06<00:00, 8692.73it/s]\n"
     ]
    },
    {
     "name": "stdout",
     "output_type": "stream",
     "text": [
      "SOL\n"
     ]
    },
    {
     "name": "stderr",
     "output_type": "stream",
     "text": [
      "100%|███████████████████████████████████████████| 38633/38633 [00:04<00:00, 8538.74it/s]\n"
     ]
    },
    {
     "name": "stdout",
     "output_type": "stream",
     "text": [
      "MATIC\n"
     ]
    },
    {
     "name": "stderr",
     "output_type": "stream",
     "text": [
      "100%|███████████████████████████████████████████| 45765/45765 [00:05<00:00, 8581.22it/s]\n"
     ]
    }
   ],
   "source": [
    "path = '~/freqtrade/user_data/data/binance/'\n",
    "coins = ['BTC', 'BNB', 'ETH', 'DOGE', 'ADA', 'SOL', 'MATIC']\n",
    "lista_df = []\n",
    "tf = '1h'\n",
    "SL = None\n",
    "TP = 0.03\n",
    "tl = 48\n",
    "window_size = 48\n",
    "\n",
    "for coin in coins:\n",
    "    print(coin)\n",
    "    dir_coin = path + f'{coin}_USDT-{tf}.feather'\n",
    "    df_coin = pd.read_feather(dir_coin)\n",
    "    df_prep = prepare_data(df_coin, SL=SL, TP=TP, tl=tl, window_size=window_size).sort_values(by='startDate')\n",
    "    df_prep['pair'] = coin\n",
    "    lista_df.append(df_prep)\n",
    "\n",
    "df_final = pd.concat(lista_df, axis=0)"
   ]
  },
  {
   "cell_type": "code",
   "execution_count": 9,
   "id": "3a216c7d-0a38-4d19-8c7d-95be08bb056e",
   "metadata": {},
   "outputs": [],
   "source": [
    "df_final.to_csv('~/Downloads/crypto48h_3TP.csv', index=False)"
   ]
  }
 ],
 "metadata": {
  "kernelspec": {
   "display_name": "Python 3 (ipykernel)",
   "language": "python",
   "name": "python3"
  },
  "language_info": {
   "codemirror_mode": {
    "name": "ipython",
    "version": 3
   },
   "file_extension": ".py",
   "mimetype": "text/x-python",
   "name": "python",
   "nbconvert_exporter": "python",
   "pygments_lexer": "ipython3",
   "version": "3.12.2"
  }
 },
 "nbformat": 4,
 "nbformat_minor": 5
}
